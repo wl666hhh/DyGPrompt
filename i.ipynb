{
 "cells": [
  {
   "cell_type": "code",
   "id": "initial_id",
   "metadata": {
    "collapsed": true,
    "ExecuteTime": {
     "end_time": "2025-04-18T05:02:44.512119Z",
     "start_time": "2025-04-18T05:02:40.565287Z"
    }
   },
   "source": [
    "# 加载预训练模型参数\n",
    "import torch\n",
    "checkpoint = torch.load('saved_models/tgn-attn-wikipedia.pth')\n",
    "print(\"预训练模型中 time_encoder.w 的形状:\", checkpoint['time_encoder.w'].shape)"
   ],
   "outputs": [
    {
     "name": "stdout",
     "output_type": "stream",
     "text": [
      "预训练模型中 time_encoder.w 的形状: torch.Size([1, 86])\n"
     ]
    }
   ],
   "execution_count": 1
  },
  {
   "metadata": {},
   "cell_type": "code",
   "outputs": [],
   "execution_count": null,
   "source": "",
   "id": "626a8b27f835f45f"
  }
 ],
 "metadata": {
  "kernelspec": {
   "display_name": "Python 3",
   "language": "python",
   "name": "python3"
  },
  "language_info": {
   "codemirror_mode": {
    "name": "ipython",
    "version": 2
   },
   "file_extension": ".py",
   "mimetype": "text/x-python",
   "name": "python",
   "nbconvert_exporter": "python",
   "pygments_lexer": "ipython2",
   "version": "2.7.6"
  }
 },
 "nbformat": 4,
 "nbformat_minor": 5
}
